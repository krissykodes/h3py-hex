{
 "cells": [
  {
   "cell_type": "code",
   "execution_count": 35,
   "metadata": {},
   "outputs": [],
   "source": [
    "# Dependencies\n",
    "import numpy as np\n",
    "import pandas as pd\n",
    "import matplotlib.pyplot as plt\n",
    "import requests\n",
    "from census import Census\n",
    "from us import states\n",
    "\n",
    "# Census API Key\n",
    "# from config.py import census_key\n",
    "c = Census(\"e48a8339d00963d6c0b809c550d138e6c5e766bb\") #,year=2013)"
   ]
  },
  {
   "cell_type": "code",
   "execution_count": 36,
   "metadata": {},
   "outputs": [
    {
     "data": {
      "text/plain": [
       "[{'NAME': 'Maryland', 'B25034_010E': 128476.0, 'state': '24'}]"
      ]
     },
     "execution_count": 36,
     "metadata": {},
     "output_type": "execute_result"
    }
   ],
   "source": [
    "#name of the geographic area and the number of homes that were built before 1939 for the state of Maryland.\n",
    "c.acs5.get(('NAME', 'B25034_010E'),\n",
    "          {'for': 'state:{}'.format(states.MD.fips)})"
   ]
  },
  {
   "cell_type": "code",
   "execution_count": 37,
   "metadata": {},
   "outputs": [
    {
     "data": {
      "text/plain": [
       "[{'NAME': 'Maryland', 'B25034_010E': 128476.0, 'state': '24'}]"
      ]
     },
     "execution_count": 37,
     "metadata": {},
     "output_type": "execute_result"
    }
   ],
   "source": [
    "# Helper methods have been created to simplify common geometry calls\n",
    "c.acs5.state(('NAME', 'B25034_010E'), states.MD.fips)"
   ]
  },
  {
   "cell_type": "code",
   "execution_count": 47,
   "metadata": {},
   "outputs": [
    {
     "data": {
      "text/html": [
       "<div>\n",
       "<style scoped>\n",
       "    .dataframe tbody tr th:only-of-type {\n",
       "        vertical-align: middle;\n",
       "    }\n",
       "\n",
       "    .dataframe tbody tr th {\n",
       "        vertical-align: top;\n",
       "    }\n",
       "\n",
       "    .dataframe thead th {\n",
       "        text-align: right;\n",
       "    }\n",
       "</style>\n",
       "<table border=\"1\" class=\"dataframe\">\n",
       "  <thead>\n",
       "    <tr style=\"text-align: right;\">\n",
       "      <th></th>\n",
       "      <th>NAME</th>\n",
       "      <th>B01003_001E</th>\n",
       "      <th>B19301_001E</th>\n",
       "      <th>state</th>\n",
       "    </tr>\n",
       "  </thead>\n",
       "  <tbody>\n",
       "    <tr>\n",
       "      <th>0</th>\n",
       "      <td>Florida</td>\n",
       "      <td>20901636.0</td>\n",
       "      <td>31619.0</td>\n",
       "      <td>12</td>\n",
       "    </tr>\n",
       "  </tbody>\n",
       "</table>\n",
       "</div>"
      ],
      "text/plain": [
       "      NAME  B01003_001E  B19301_001E state\n",
       "0  Florida   20901636.0      31619.0    12"
      ]
     },
     "execution_count": 47,
     "metadata": {},
     "output_type": "execute_result"
    }
   ],
   "source": [
    "#get population density\n",
    "census_data = c.acs5.get(('NAME', 'B01003_001E','B19301_001E'),\n",
    "          {'for': 'state:{}'.format(states.FL.fips)},\n",
    "                        {'in':'tract:'})\n",
    "\n",
    "# Convert to DataFrame\n",
    "census_pd = pd.DataFrame(census_data)\n",
    "census_pd.head()"
   ]
  },
  {
   "cell_type": "code",
   "execution_count": 65,
   "metadata": {},
   "outputs": [
    {
     "ename": "SyntaxError",
     "evalue": "invalid syntax (<ipython-input-65-06dc1cc45a74>, line 1)",
     "output_type": "error",
     "traceback": [
      "\u001b[0;36m  File \u001b[0;32m\"<ipython-input-65-06dc1cc45a74>\"\u001b[0;36m, line \u001b[0;32m1\u001b[0m\n\u001b[0;31m    tract=c.sf1.get(('NAME',) geo={'for': 'tract:*',\u001b[0m\n\u001b[0m                              ^\u001b[0m\n\u001b[0;31mSyntaxError\u001b[0m\u001b[0;31m:\u001b[0m invalid syntax\n"
     ]
    }
   ],
   "source": [
    "tract=c.sf1.get(('NAME',) geo={'for': 'tract:*',\n",
    "                       'in': 'state:{} county:170'.format(states.AK.fips)}))\n",
    "census_pd = pd.DataFrame(tract)\n",
    "census_pd.head()"
   ]
  },
  {
   "cell_type": "code",
   "execution_count": 64,
   "metadata": {},
   "outputs": [
    {
     "data": {
      "text/html": [
       "<div>\n",
       "<style scoped>\n",
       "    .dataframe tbody tr th:only-of-type {\n",
       "        vertical-align: middle;\n",
       "    }\n",
       "\n",
       "    .dataframe tbody tr th {\n",
       "        vertical-align: top;\n",
       "    }\n",
       "\n",
       "    .dataframe thead th {\n",
       "        text-align: right;\n",
       "    }\n",
       "</style>\n",
       "<table border=\"1\" class=\"dataframe\">\n",
       "  <thead>\n",
       "    <tr style=\"text-align: right;\">\n",
       "      <th></th>\n",
       "      <th>NAME</th>\n",
       "      <th>state</th>\n",
       "      <th>county</th>\n",
       "      <th>tract</th>\n",
       "    </tr>\n",
       "  </thead>\n",
       "  <tbody>\n",
       "    <tr>\n",
       "      <th>0</th>\n",
       "      <td>Census Tract 1.01, Matanuska-Susitna Borough, ...</td>\n",
       "      <td>02</td>\n",
       "      <td>170</td>\n",
       "      <td>000101</td>\n",
       "    </tr>\n",
       "    <tr>\n",
       "      <th>1</th>\n",
       "      <td>Census Tract 1.02, Matanuska-Susitna Borough, ...</td>\n",
       "      <td>02</td>\n",
       "      <td>170</td>\n",
       "      <td>000102</td>\n",
       "    </tr>\n",
       "    <tr>\n",
       "      <th>2</th>\n",
       "      <td>Census Tract 2, Matanuska-Susitna Borough, Alaska</td>\n",
       "      <td>02</td>\n",
       "      <td>170</td>\n",
       "      <td>000200</td>\n",
       "    </tr>\n",
       "    <tr>\n",
       "      <th>3</th>\n",
       "      <td>Census Tract 3, Matanuska-Susitna Borough, Alaska</td>\n",
       "      <td>02</td>\n",
       "      <td>170</td>\n",
       "      <td>000300</td>\n",
       "    </tr>\n",
       "    <tr>\n",
       "      <th>4</th>\n",
       "      <td>Census Tract 4.01, Matanuska-Susitna Borough, ...</td>\n",
       "      <td>02</td>\n",
       "      <td>170</td>\n",
       "      <td>000401</td>\n",
       "    </tr>\n",
       "  </tbody>\n",
       "</table>\n",
       "</div>"
      ],
      "text/plain": [
       "                                                NAME state county   tract\n",
       "0  Census Tract 1.01, Matanuska-Susitna Borough, ...    02    170  000101\n",
       "1  Census Tract 1.02, Matanuska-Susitna Borough, ...    02    170  000102\n",
       "2  Census Tract 2, Matanuska-Susitna Borough, Alaska    02    170  000200\n",
       "3  Census Tract 3, Matanuska-Susitna Borough, Alaska    02    170  000300\n",
       "4  Census Tract 4.01, Matanuska-Susitna Borough, ...    02    170  000401"
      ]
     },
     "execution_count": 64,
     "metadata": {},
     "output_type": "execute_result"
    }
   ],
   "source": [
    "#same thing but easier\n",
    "geo=c.sf1.state_county_tract('NAME', states.AK.fips, '170', Census.ALL)\n",
    "\n",
    "census_pd = pd.DataFrame(geo)\n",
    "census_pd.head()"
   ]
  },
  {
   "cell_type": "code",
   "execution_count": 27,
   "metadata": {},
   "outputs": [
    {
     "data": {
      "text/html": [
       "<div>\n",
       "<style scoped>\n",
       "    .dataframe tbody tr th:only-of-type {\n",
       "        vertical-align: middle;\n",
       "    }\n",
       "\n",
       "    .dataframe tbody tr th {\n",
       "        vertical-align: top;\n",
       "    }\n",
       "\n",
       "    .dataframe thead th {\n",
       "        text-align: right;\n",
       "    }\n",
       "</style>\n",
       "<table border=\"1\" class=\"dataframe\">\n",
       "  <thead>\n",
       "    <tr style=\"text-align: right;\">\n",
       "      <th></th>\n",
       "      <th>NAME</th>\n",
       "      <th>B19013_001E</th>\n",
       "      <th>B01003_001E</th>\n",
       "      <th>B01002_001E</th>\n",
       "      <th>B19301_001E</th>\n",
       "      <th>B17001_002E</th>\n",
       "      <th>state</th>\n",
       "    </tr>\n",
       "  </thead>\n",
       "  <tbody>\n",
       "    <tr>\n",
       "      <th>0</th>\n",
       "      <td>Maryland</td>\n",
       "      <td>84805.0</td>\n",
       "      <td>6018848.0</td>\n",
       "      <td>38.7</td>\n",
       "      <td>42122.0</td>\n",
       "      <td>539991.0</td>\n",
       "      <td>24</td>\n",
       "    </tr>\n",
       "  </tbody>\n",
       "</table>\n",
       "</div>"
      ],
      "text/plain": [
       "       NAME  B19013_001E  B01003_001E  B01002_001E  B19301_001E  B17001_002E  \\\n",
       "0  Maryland      84805.0    6018848.0         38.7      42122.0     539991.0   \n",
       "\n",
       "  state  \n",
       "0    24  "
      ]
     },
     "execution_count": 27,
     "metadata": {},
     "output_type": "execute_result"
    }
   ],
   "source": [
    "# Run Census Search to retrieve data on all zip codes (2013 ACS5 Census)\n",
    "# See: https://github.com/CommerceDataService/census-wrapper for library documentation\n",
    "# See: https://gist.github.com/afhaque/60558290d6efd892351c4b64e5c01e9b for labels\n",
    "census_data = c.acs5.get((\"NAME\", \"B19013_001E\", \"B01003_001E\", \"B01002_001E\",\n",
    "                          \"B19301_001E\",\n",
    "                          \"B17001_002E\"), {'for': 'state:{}'.format(states.MD.fips)})\n",
    "\n",
    "# Convert to DataFrame\n",
    "census_pd = pd.DataFrame(census_data)\n",
    "census_pd.head()\n",
    "# # Column Reordering\n",
    "# census_pd = census_pd.rename(columns={\"B01003_001E\": \"Population\",\n",
    "#                                       \"B01002_001E\": \"Median Age\",\n",
    "#                                       \"B19013_001E\": \"Household Income\",\n",
    "#                                       \"B19301_001E\": \"Per Capita Income\",\n",
    "#                                       \"B17001_002E\": \"Poverty Count\",\n",
    "#                                       \"NAME\": \"Name\", \"zip code tabulation area\": \"Zipcode\"})\n",
    "\n",
    "# # Add in Poverty Rate (Poverty Count / Population)\n",
    "# census_pd[\"Poverty Rate\"] = 100 * \\\n",
    "#     census_pd[\"Poverty Count\"].astype(\n",
    "#         int) / census_pd[\"Population\"].astype(int)\n",
    "\n",
    "# # Final DataFrame\n",
    "# census_pd = census_pd[[\"Zipcode\", \"Population\", \"Median Age\", \"Household Income\",\n",
    "#                        \"Per Capita Income\", \"Poverty Count\", \"Poverty Rate\"]]\n",
    "\n",
    "# # Visualize\n",
    "# print(len(census_pd))\n",
    "# census_pd.head()"
   ]
  },
  {
   "cell_type": "code",
   "execution_count": 3,
   "metadata": {
    "collapsed": true
   },
   "outputs": [],
   "source": [
    "# Save as a csv\n",
    "# Note to avoid any issues later, use encoding=\"utf-8\"\n",
    "census_pd.to_csv(\"census_data.csv\", encoding=\"utf-8\", index=False)"
   ]
  }
 ],
 "metadata": {
  "anaconda-cloud": {},
  "kernelspec": {
   "display_name": "Python 3",
   "language": "python",
   "name": "python3"
  },
  "language_info": {
   "codemirror_mode": {
    "name": "ipython",
    "version": 3
   },
   "file_extension": ".py",
   "mimetype": "text/x-python",
   "name": "python",
   "nbconvert_exporter": "python",
   "pygments_lexer": "ipython3",
   "version": "3.8.8"
  },
  "latex_envs": {
   "LaTeX_envs_menu_present": true,
   "autoclose": false,
   "autocomplete": true,
   "bibliofile": "biblio.bib",
   "cite_by": "apalike",
   "current_citInitial": 1,
   "eqLabelWithNumbers": true,
   "eqNumInitial": 1,
   "hotkeys": {
    "equation": "Ctrl-E",
    "itemize": "Ctrl-I"
   },
   "labels_anchors": false,
   "latex_user_defs": false,
   "report_style_numbering": false,
   "user_envs_cfg": false
  }
 },
 "nbformat": 4,
 "nbformat_minor": 1
}
